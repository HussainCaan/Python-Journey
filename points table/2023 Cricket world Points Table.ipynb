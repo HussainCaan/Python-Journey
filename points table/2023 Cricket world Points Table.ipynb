{
 "cells": [
  {
   "cell_type": "code",
   "execution_count": 60,
   "metadata": {},
   "outputs": [
    {
     "name": "stdout",
     "output_type": "stream",
     "text": [
      "               Teams Matches Won Lost Tied NR Points     NRR\n",
      "0         India  (Q)       9   9    0    0  0     18  +2.570\n",
      "1  South Africa  (Q)       9   7    2    0  0     14  +1.261\n",
      "2      Pakistan  (E)       9   4    5    0  0      8  -0.199\n",
      "3   Afghanistan  (E)       9   4    5    0  0      8  -0.336\n",
      "4       England  (E)       9   3    6    0  0      6  -0.572\n",
      "5    Bangladesh  (E)       9   2    7    0  0      4  -1.087\n",
      "6     Sri Lanka  (E)       9   2    7    0  0      4  -1.419\n",
      "7   Netherlands  (E)       9   2    7    0  0      4  -1.825\n"
     ]
    }
   ],
   "source": [
    "import pandas as pd\n",
    "from selenium import webdriver\n",
    "from selenium.webdriver.common.by import By\n",
    "\n",
    "website = \"https://www.cricbuzz.com/cricket-series/6732/icc-cricket-world-cup-2023/points-table\"\n",
    "path = \"chromedriver\"\n",
    "\n",
    "driver = webdriver.Chrome(path)\n",
    "\n",
    "driver.get(website)\n",
    "\n",
    "table = driver.find_element(by=By.TAG_NAME, value=\"table\")\n",
    "\n",
    "Teams = []\n",
    "Matches = []\n",
    "Won = []\n",
    "Lost = []\n",
    "Tied = []\n",
    "NR = []\n",
    "Points = []\n",
    "NRR = []\n",
    "\n",
    "allmatches = table.find_elements(by=By.TAG_NAME, value=\"tr\")\n",
    "\n",
    "for index in range(1, len(allmatches), 2):\n",
    "    try:\n",
    "        match = allmatches[index]\n",
    "        Teams.append(match.find_element(by=By.XPATH, value=\"./td[1]\").text)\n",
    "        Mat = match.find_element(by=By.XPATH, value=\"./td[2]\").text\n",
    "        Matches.append(Mat)\n",
    "        # (Mat)\n",
    "        Won.append(match.find_element(by=By.XPATH, value=\"./td[3]\").text)\n",
    "        Lost.append(match.find_element(by=By.XPATH, value=\"./td[4]\").text)\n",
    "        Tied.append(match.find_element(by=By.XPATH, value=\"./td[5]\").text)\n",
    "        NR.append(match.find_element(by=By.XPATH, value=\"./td[6]\").text)\n",
    "        Points.append(match.find_element(by=By.XPATH, value=\"./td[7]\").text)\n",
    "        NRR.append(match.find_element(by=By.XPATH, value=\"./td[8]\").text)\n",
    "    except:\n",
    "        pass\n",
    "\n",
    "driver.quit()\n",
    "\n",
    "filtered_teams_list = [team for team in Teams if team.strip()]\n",
    "Matches = [match for match in Matches if match.strip()]\n",
    "Won = [win for win in Won if win.strip()]\n",
    "Lost = [loss for loss in Lost if loss.strip()]\n",
    "Tied = [tie for tie in Tied if tie.strip()]\n",
    "NR = [nr for nr in NR if nr.strip()]\n",
    "Points = [pnts for pnts in Points if pnts.strip()]\n",
    "NRR = [nrr for nrr in NRR if nrr.strip()]\n",
    "\n",
    "df = pd.DataFrame({\"Teams\": filtered_teams_list, \"Matches\": Matches, \"Won\": Won,\n",
    "                  \"Lost\": Lost, \"Tied\": Tied, \"NR\": NR, \"Points\": Points, \"NRR\": NRR})\n",
    "\n",
    "df.to_csv(\"PointsTable.csv\",index=False)\n",
    "print(df)"
   ]
  }
 ],
 "metadata": {
  "kernelspec": {
   "display_name": "Python 3",
   "language": "python",
   "name": "python3"
  },
  "language_info": {
   "codemirror_mode": {
    "name": "ipython",
    "version": 3
   },
   "file_extension": ".py",
   "mimetype": "text/x-python",
   "name": "python",
   "nbconvert_exporter": "python",
   "pygments_lexer": "ipython3",
   "version": "3.11.4"
  }
 },
 "nbformat": 4,
 "nbformat_minor": 2
}
