{
 "cells": [
  {
   "cell_type": "code",
   "execution_count": null,
   "metadata": {},
   "outputs": [],
   "source": [
    "from selenium import webdriver\n",
    "from selenium.webdriver.common.by import By\n",
    "import pandas as pd\n",
    "import time\n",
    "from selenium.webdriver.support.ui import WebDriverWait\n",
    "from selenium.webdriver.support import expected_conditions as EC\n",
    "\n",
    "\n",
    "web = \"https://www.adidas.com/us/men-athletic_sneakers\"\n",
    "path = \"C:\\Program Files\\Google\\Chrome\\Application\\chrome.exe\"\n",
    "driver = webdriver.Chrome(path)\n",
    "driver.get(web)\n",
    "\n",
    "time.sleep(10)\n",
    "container = driver.find_element(by=By.CLASS_NAME,value=\"product-container___3GvlZ\")\n",
    "# container = WebDriverWait(driver,10).until(EC.presence_of_all_elements_located((By.CLASS_NAME,\"product-container___3GvlZ\")))\n",
    "\n",
    "eachbox = container.find_elements(by=By.CLASS_NAME,value=\"grid-item\")\n",
    "# eachbox = WebDriverWait(container,10).until(EC.presence_of_all_elements_located((By.CLASS_NAME,\"grid-item\")))\n",
    "\n",
    "titles = []\n",
    "colors = []\n",
    "price = []\n",
    "\n",
    "for box in eachbox[1:]:\n",
    "\n",
    "    title = box.find_element(by=By.CLASS_NAME,value=\"glass-product-card__title\").text\n",
    "    print(title)\n",
    "    titles.append(title)\n",
    "    try:\n",
    "        colors.append(box.find_element(by=By.CLASS_NAME,value=\"dark-grey___6ysQv\").text)\n",
    "        price.append(box.find_element(by=By.CLASS_NAME,value=\"gl-price-item notranslate\").text)\n",
    "    except:\n",
    "        price.append(0)\n",
    "        pass\n",
    "\n",
    "\n",
    "\n",
    "driver.quit()\n",
    "colors.append(0)\n",
    "dictionary = {\"Titles\":titles,\"Colors Available\":colors,\"Price\":price}\n",
    "df = pd.DataFrame(dictionary)\n",
    "df.to_csv(\"Adidas_Shoes.csv\",index=False)"
   ]
  }
 ],
 "metadata": {
  "kernelspec": {
   "display_name": "Python 3",
   "language": "python",
   "name": "python3"
  },
  "language_info": {
   "codemirror_mode": {
    "name": "ipython",
    "version": 3
   },
   "file_extension": ".py",
   "mimetype": "text/x-python",
   "name": "python",
   "nbconvert_exporter": "python",
   "pygments_lexer": "ipython3",
   "version": "3.11.4"
  }
 },
 "nbformat": 4,
 "nbformat_minor": 2
}
